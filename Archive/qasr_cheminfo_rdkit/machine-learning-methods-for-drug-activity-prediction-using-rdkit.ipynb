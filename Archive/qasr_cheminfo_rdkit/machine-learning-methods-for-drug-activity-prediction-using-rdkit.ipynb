{
 "cells": [
  {
   "cell_type": "code",
   "execution_count": 271,
   "metadata": {},
   "outputs": [],
   "source": [
    "import pandas as pd\n",
    "import numpy as np\n",
    "import os\n",
    "import seaborn as sns\n",
    "import matplotlib.pyplot as plt\n",
    "import emoji\n",
    "%matplotlib inline \n",
    "\n",
    "#importing rdkit\n",
    "from rdkit import Chem\n",
    "from rdkit.Chem import AllChem\n",
    "from rdkit.Chem import Descriptors\n",
    "from rdkit import RDConfig\n",
    "from rdkit.Chem.Draw import IPythonConsole\n",
    "from rdkit.Chem import Draw\n",
    "from utility import FeatureGenerator\n",
    "from rdkit.Chem import PandasTools as PandasTools\n",
    "from rdkit import DataStructs\n",
    "from rdkit.Chem.Subshape import SubshapeBuilder,SubshapeAligner,SubshapeObjects\n",
    "\n",
    "#importing sklearn \n",
    "from sklearn.model_selection import train_test_split, StratifiedKFold, GridSearchCV\n",
    "from sklearn.metrics import r2_score, mean_squared_error, mean_absolute_error\n",
    "from sklearn.ensemble import RandomForestRegressor\n",
    "from sklearn.neural_network import MLPRegressor\n",
    "from sklearn.svm import SVR"
   ]
  },
  {
   "cell_type": "markdown",
   "metadata": {},
   "source": [
    "**1. Scientific/Business Understanding**\n",
    "\n",
    "Being a scientist and eager to learn new method in my researech field, exploring chemoinformatics approach in drug discovery is quite interesting. For this project I am using the experimental *log P* data released in the paper: “Large, chemically diverse dataset of *log P* measurements for benchmarking studies” by Martel et al: https://doi.org/10.1016/j.ejps.2012.10.019. As this is a preliminary study, we are interested in finding which featurization methods work best for predicting *log P*. The octanol-water partition coefficient (*log P*), is one of the most important properties for determining a compound’s suitability as a drug. This coefficient strongly affects how easily the drug can reach its intended target in the body, how strong an effect it will have once it reaches its target, and how long it will remain in the body in an active form, hence used in decision-making by medicinal chemists in pre-clinical drug discovery. The raw data is downloaded from https://ochem.eu/article/27772.\n",
    "\n",
    "I will focus on the three question below:\n",
    "\n",
    "Q1: What are are options for *log P* prediction are based on physical descriptors, such as atom type counts, or polar surface area, or on topological descriptors?\n",
    "\n",
    "Q2: What's the *log P* distribution like? How is it related to drug likeliness?\n",
    "\n",
    "Q3: How is molecular descriptor have effect on *log P*? Can we predict *log P* based on molecular descriptor set?"
   ]
  },
  {
   "cell_type": "markdown",
   "metadata": {},
   "source": [
    "**2. Data understanding**"
   ]
  },
  {
   "cell_type": "code",
   "execution_count": 272,
   "metadata": {},
   "outputs": [
    {
     "data": {
      "text/html": [
       "<div>\n",
       "<style scoped>\n",
       "    .dataframe tbody tr th:only-of-type {\n",
       "        vertical-align: middle;\n",
       "    }\n",
       "\n",
       "    .dataframe tbody tr th {\n",
       "        vertical-align: top;\n",
       "    }\n",
       "\n",
       "    .dataframe thead th {\n",
       "        text-align: right;\n",
       "    }\n",
       "</style>\n",
       "<table border=\"1\" class=\"dataframe\">\n",
       "  <thead>\n",
       "    <tr style=\"text-align: right;\">\n",
       "      <th></th>\n",
       "      <th>SMILES</th>\n",
       "      <th>CASRN</th>\n",
       "      <th>MOLECULEID</th>\n",
       "      <th>EXTERNALID</th>\n",
       "      <th>N</th>\n",
       "      <th>NAME</th>\n",
       "      <th>NAME.1</th>\n",
       "      <th>ARTICLEID</th>\n",
       "      <th>PUBMEDID</th>\n",
       "      <th>PAGE</th>\n",
       "      <th>TABLE</th>\n",
       "      <th>logPow {measured}</th>\n",
       "      <th>UNIT {logPow}</th>\n",
       "      <th>logPow {measured, converted}</th>\n",
       "      <th>UNIT {logPow}.1</th>\n",
       "      <th>pH</th>\n",
       "      <th>UNIT {pH}</th>\n",
       "    </tr>\n",
       "  </thead>\n",
       "  <tbody>\n",
       "    <tr>\n",
       "      <td>0</td>\n",
       "      <td>COC1=CC=CC=C1[C@@H]1CC(=O)NC2=C1C=C(C)C(C)=C2</td>\n",
       "      <td>-</td>\n",
       "      <td>M1018998</td>\n",
       "      <td>ZINC00036522</td>\n",
       "      <td>1</td>\n",
       "      <td>-</td>\n",
       "      <td>-</td>\n",
       "      <td>A27772</td>\n",
       "      <td>23131797</td>\n",
       "      <td>-</td>\n",
       "      <td>2</td>\n",
       "      <td>4.17</td>\n",
       "      <td>Log unit</td>\n",
       "      <td>4.17</td>\n",
       "      <td>Log unit</td>\n",
       "      <td>5.0</td>\n",
       "      <td>Log unit</td>\n",
       "    </tr>\n",
       "    <tr>\n",
       "      <td>1</td>\n",
       "      <td>COC1=CC=C2C(=O)C[C@](O)(OC2=C1)C(F)(F)F</td>\n",
       "      <td>-</td>\n",
       "      <td>M1019732</td>\n",
       "      <td>ZINC00185379</td>\n",
       "      <td>3</td>\n",
       "      <td>-</td>\n",
       "      <td>-</td>\n",
       "      <td>A27772</td>\n",
       "      <td>23131797</td>\n",
       "      <td>-</td>\n",
       "      <td>2</td>\n",
       "      <td>2.79</td>\n",
       "      <td>Log unit</td>\n",
       "      <td>2.79</td>\n",
       "      <td>Log unit</td>\n",
       "      <td>5.0</td>\n",
       "      <td>Log unit</td>\n",
       "    </tr>\n",
       "    <tr>\n",
       "      <td>2</td>\n",
       "      <td>CC(C)(C)C1(C)O[C@@H]([C@@H](O1)C(N)=O)C(N)=O</td>\n",
       "      <td>-</td>\n",
       "      <td>M3410220</td>\n",
       "      <td>ZINC12402487</td>\n",
       "      <td>4</td>\n",
       "      <td>-</td>\n",
       "      <td>-</td>\n",
       "      <td>A27772</td>\n",
       "      <td>23131797</td>\n",
       "      <td>-</td>\n",
       "      <td>2</td>\n",
       "      <td>1.60</td>\n",
       "      <td>Log unit</td>\n",
       "      <td>1.60</td>\n",
       "      <td>Log unit</td>\n",
       "      <td>= 6.5</td>\n",
       "      <td>Log unit</td>\n",
       "    </tr>\n",
       "    <tr>\n",
       "      <td>3</td>\n",
       "      <td>CCOC1=CC(=CC(OCC)=C1OCC)C1=NN=C(O1)C1=CC=CO1</td>\n",
       "      <td>-</td>\n",
       "      <td>M1019125</td>\n",
       "      <td>ZINC00055459</td>\n",
       "      <td>5</td>\n",
       "      <td>-</td>\n",
       "      <td>-</td>\n",
       "      <td>A27772</td>\n",
       "      <td>23131797</td>\n",
       "      <td>-</td>\n",
       "      <td>2</td>\n",
       "      <td>3.96</td>\n",
       "      <td>Log unit</td>\n",
       "      <td>3.96</td>\n",
       "      <td>Log unit</td>\n",
       "      <td>= 10.5</td>\n",
       "      <td>Log unit</td>\n",
       "    </tr>\n",
       "    <tr>\n",
       "      <td>4</td>\n",
       "      <td>CN(C)C1=CC=C(C=C1)C(=C)C1=CC=C(C=C1)N(C)C</td>\n",
       "      <td>-</td>\n",
       "      <td>M78769</td>\n",
       "      <td>ZINC00056871</td>\n",
       "      <td>6</td>\n",
       "      <td>-</td>\n",
       "      <td>-</td>\n",
       "      <td>A27772</td>\n",
       "      <td>23131797</td>\n",
       "      <td>-</td>\n",
       "      <td>2</td>\n",
       "      <td>5.30</td>\n",
       "      <td>Log unit</td>\n",
       "      <td>5.30</td>\n",
       "      <td>Log unit</td>\n",
       "      <td>= 7.3</td>\n",
       "      <td>Log unit</td>\n",
       "    </tr>\n",
       "  </tbody>\n",
       "</table>\n",
       "</div>"
      ],
      "text/plain": [
       "                                          SMILES CASRN MOLECULEID  \\\n",
       "0  COC1=CC=CC=C1[C@@H]1CC(=O)NC2=C1C=C(C)C(C)=C2     -   M1018998   \n",
       "1        COC1=CC=C2C(=O)C[C@](O)(OC2=C1)C(F)(F)F     -   M1019732   \n",
       "2   CC(C)(C)C1(C)O[C@@H]([C@@H](O1)C(N)=O)C(N)=O     -   M3410220   \n",
       "3   CCOC1=CC(=CC(OCC)=C1OCC)C1=NN=C(O1)C1=CC=CO1     -   M1019125   \n",
       "4      CN(C)C1=CC=C(C=C1)C(=C)C1=CC=C(C=C1)N(C)C     -     M78769   \n",
       "\n",
       "     EXTERNALID  N NAME NAME.1 ARTICLEID  PUBMEDID PAGE  TABLE  \\\n",
       "0  ZINC00036522  1    -      -    A27772  23131797    -      2   \n",
       "1  ZINC00185379  3    -      -    A27772  23131797    -      2   \n",
       "2  ZINC12402487  4    -      -    A27772  23131797    -      2   \n",
       "3  ZINC00055459  5    -      -    A27772  23131797    -      2   \n",
       "4  ZINC00056871  6    -      -    A27772  23131797    -      2   \n",
       "\n",
       "   logPow {measured} UNIT {logPow}  logPow {measured, converted}  \\\n",
       "0               4.17      Log unit                          4.17   \n",
       "1               2.79      Log unit                          2.79   \n",
       "2               1.60      Log unit                          1.60   \n",
       "3               3.96      Log unit                          3.96   \n",
       "4               5.30      Log unit                          5.30   \n",
       "\n",
       "  UNIT {logPow}.1      pH UNIT {pH}  \n",
       "0        Log unit     5.0  Log unit  \n",
       "1        Log unit     5.0  Log unit  \n",
       "2        Log unit   = 6.5  Log unit  \n",
       "3        Log unit  = 10.5  Log unit  \n",
       "4        Log unit   = 7.3  Log unit  "
      ]
     },
     "execution_count": 272,
     "metadata": {},
     "output_type": "execute_result"
    }
   ],
   "source": [
    "#load data\n",
    "df = pd.read_csv(\"data.csv\")\n",
    "df.head()"
   ]
  },
  {
   "cell_type": "code",
   "execution_count": 273,
   "metadata": {},
   "outputs": [
    {
     "name": "stdout",
     "output_type": "stream",
     "text": [
      "No. of rows 707, no of columns 17\n"
     ]
    }
   ],
   "source": [
    "#number of rows and column\n",
    "print(f'No. of rows {df.shape[0]}, no of columns {df.shape[1]}')"
   ]
  },
  {
   "cell_type": "code",
   "execution_count": 274,
   "metadata": {},
   "outputs": [
    {
     "data": {
      "text/html": [
       "<div>\n",
       "<style scoped>\n",
       "    .dataframe tbody tr th:only-of-type {\n",
       "        vertical-align: middle;\n",
       "    }\n",
       "\n",
       "    .dataframe tbody tr th {\n",
       "        vertical-align: top;\n",
       "    }\n",
       "\n",
       "    .dataframe thead th {\n",
       "        text-align: right;\n",
       "    }\n",
       "</style>\n",
       "<table border=\"1\" class=\"dataframe\">\n",
       "  <thead>\n",
       "    <tr style=\"text-align: right;\">\n",
       "      <th></th>\n",
       "      <th>N</th>\n",
       "      <th>PUBMEDID</th>\n",
       "      <th>TABLE</th>\n",
       "      <th>logPow {measured}</th>\n",
       "      <th>logPow {measured, converted}</th>\n",
       "    </tr>\n",
       "  </thead>\n",
       "  <tbody>\n",
       "    <tr>\n",
       "      <td>count</td>\n",
       "      <td>707.000000</td>\n",
       "      <td>707.0</td>\n",
       "      <td>707.0</td>\n",
       "      <td>707.000000</td>\n",
       "      <td>707.000000</td>\n",
       "    </tr>\n",
       "    <tr>\n",
       "      <td>mean</td>\n",
       "      <td>491.585573</td>\n",
       "      <td>23131797.0</td>\n",
       "      <td>2.0</td>\n",
       "      <td>4.188713</td>\n",
       "      <td>4.188713</td>\n",
       "    </tr>\n",
       "    <tr>\n",
       "      <td>std</td>\n",
       "      <td>291.618041</td>\n",
       "      <td>0.0</td>\n",
       "      <td>0.0</td>\n",
       "      <td>1.179046</td>\n",
       "      <td>1.179046</td>\n",
       "    </tr>\n",
       "    <tr>\n",
       "      <td>min</td>\n",
       "      <td>1.000000</td>\n",
       "      <td>23131797.0</td>\n",
       "      <td>2.0</td>\n",
       "      <td>0.300000</td>\n",
       "      <td>0.300000</td>\n",
       "    </tr>\n",
       "    <tr>\n",
       "      <td>25%</td>\n",
       "      <td>239.500000</td>\n",
       "      <td>23131797.0</td>\n",
       "      <td>2.0</td>\n",
       "      <td>3.460000</td>\n",
       "      <td>3.460000</td>\n",
       "    </tr>\n",
       "    <tr>\n",
       "      <td>50%</td>\n",
       "      <td>511.000000</td>\n",
       "      <td>23131797.0</td>\n",
       "      <td>2.0</td>\n",
       "      <td>4.330000</td>\n",
       "      <td>4.330000</td>\n",
       "    </tr>\n",
       "    <tr>\n",
       "      <td>75%</td>\n",
       "      <td>750.500000</td>\n",
       "      <td>23131797.0</td>\n",
       "      <td>2.0</td>\n",
       "      <td>4.980000</td>\n",
       "      <td>4.980000</td>\n",
       "    </tr>\n",
       "    <tr>\n",
       "      <td>max</td>\n",
       "      <td>995.000000</td>\n",
       "      <td>23131797.0</td>\n",
       "      <td>2.0</td>\n",
       "      <td>6.960000</td>\n",
       "      <td>6.960000</td>\n",
       "    </tr>\n",
       "  </tbody>\n",
       "</table>\n",
       "</div>"
      ],
      "text/plain": [
       "                N    PUBMEDID  TABLE  logPow {measured}  \\\n",
       "count  707.000000       707.0  707.0         707.000000   \n",
       "mean   491.585573  23131797.0    2.0           4.188713   \n",
       "std    291.618041         0.0    0.0           1.179046   \n",
       "min      1.000000  23131797.0    2.0           0.300000   \n",
       "25%    239.500000  23131797.0    2.0           3.460000   \n",
       "50%    511.000000  23131797.0    2.0           4.330000   \n",
       "75%    750.500000  23131797.0    2.0           4.980000   \n",
       "max    995.000000  23131797.0    2.0           6.960000   \n",
       "\n",
       "       logPow {measured, converted}  \n",
       "count                    707.000000  \n",
       "mean                       4.188713  \n",
       "std                        1.179046  \n",
       "min                        0.300000  \n",
       "25%                        3.460000  \n",
       "50%                        4.330000  \n",
       "75%                        4.980000  \n",
       "max                        6.960000  "
      ]
     },
     "execution_count": 274,
     "metadata": {},
     "output_type": "execute_result"
    }
   ],
   "source": [
    "#summary statistics\n",
    "df.describe()   "
   ]
  },
  {
   "cell_type": "code",
   "execution_count": 275,
   "metadata": {},
   "outputs": [
    {
     "data": {
      "text/plain": [
       "SMILES                          0\n",
       "CASRN                           0\n",
       "MOLECULEID                      0\n",
       "EXTERNALID                      0\n",
       "N                               0\n",
       "NAME                            0\n",
       "NAME.1                          0\n",
       "ARTICLEID                       0\n",
       "PUBMEDID                        0\n",
       "PAGE                            0\n",
       "TABLE                           0\n",
       "logPow {measured}               0\n",
       "UNIT {logPow}                   0\n",
       "logPow {measured, converted}    0\n",
       "UNIT {logPow}.1                 0\n",
       "pH                              0\n",
       "UNIT {pH}                       0\n",
       "dtype: int64"
      ]
     },
     "execution_count": 275,
     "metadata": {},
     "output_type": "execute_result"
    }
   ],
   "source": [
    "#missing values\n",
    "df.isnull().sum(axis=0)"
   ]
  },
  {
   "cell_type": "code",
   "execution_count": 276,
   "metadata": {},
   "outputs": [
    {
     "name": "stdout",
     "output_type": "stream",
     "text": [
      "<class 'pandas.core.frame.DataFrame'>\n",
      "RangeIndex: 707 entries, 0 to 706\n",
      "Data columns (total 17 columns):\n",
      "SMILES                          707 non-null object\n",
      "CASRN                           707 non-null object\n",
      "MOLECULEID                      707 non-null object\n",
      "EXTERNALID                      707 non-null object\n",
      "N                               707 non-null int64\n",
      "NAME                            707 non-null object\n",
      "NAME.1                          707 non-null object\n",
      "ARTICLEID                       707 non-null object\n",
      "PUBMEDID                        707 non-null int64\n",
      "PAGE                            707 non-null object\n",
      "TABLE                           707 non-null int64\n",
      "logPow {measured}               707 non-null float64\n",
      "UNIT {logPow}                   707 non-null object\n",
      "logPow {measured, converted}    707 non-null float64\n",
      "UNIT {logPow}.1                 707 non-null object\n",
      "pH                              707 non-null object\n",
      "UNIT {pH}                       707 non-null object\n",
      "dtypes: float64(2), int64(3), object(12)\n",
      "memory usage: 94.0+ KB\n"
     ]
    }
   ],
   "source": [
    "\n",
    "# data format for each column\n",
    "df.info()"
   ]
  },
  {
   "cell_type": "code",
   "execution_count": 277,
   "metadata": {},
   "outputs": [
    {
     "data": {
      "text/plain": [
       "Index(['SMILES', 'CASRN', 'MOLECULEID', 'EXTERNALID', 'N', 'NAME', 'NAME.1',\n",
       "       'ARTICLEID', 'PUBMEDID', 'PAGE', 'TABLE', 'logPow {measured}',\n",
       "       'UNIT {logPow}', 'logPow {measured, converted}', 'UNIT {logPow}.1',\n",
       "       'pH', 'UNIT {pH}'],\n",
       "      dtype='object')"
      ]
     },
     "execution_count": 277,
     "metadata": {},
     "output_type": "execute_result"
    }
   ],
   "source": [
    "df.columns"
   ]
  },
  {
   "cell_type": "markdown",
   "metadata": {},
   "source": [
    "**3. Prepare Data**\n",
    "\n",
    "There are some necessary stpes to apply before continue exploring the dataset:\n",
    "\n",
    "Drop unused columns\n",
    "\n",
    "Convert string values to number\n"
   ]
  },
  {
   "cell_type": "code",
   "execution_count": 278,
   "metadata": {},
   "outputs": [],
   "source": [
    "from copy import deepcopy\n",
    "data = df.copy(deep=True)"
   ]
  },
  {
   "cell_type": "code",
   "execution_count": 279,
   "metadata": {},
   "outputs": [],
   "source": [
    "# Drop unused columns\n",
    "columns_to_drop = ['CASRN', 'MOLECULEID','ARTICLEID', 'PUBMEDID', 'PAGE', 'TABLE', 'UNIT {logPow}', \n",
    "                   'logPow {measured, converted}', 'UNIT {logPow}.1','UNIT {pH}', 'NAME', 'NAME.1']\n",
    "\n",
    "data.drop(columns_to_drop, axis=1, inplace=True)\n",
    "\n",
    "#renaming logP column\n",
    "data.rename(columns={'logPow {measured}': 'logPexp', 'EXTERNALID': 'ZINC_ID'}, inplace=True)"
   ]
  },
  {
   "cell_type": "code",
   "execution_count": 280,
   "metadata": {},
   "outputs": [],
   "source": [
    "#rearraging columns sequence\n",
    "data = data[['N', 'ZINC_ID', 'SMILES', 'logPexp', 'pH']]"
   ]
  },
  {
   "cell_type": "code",
   "execution_count": 281,
   "metadata": {},
   "outputs": [
    {
     "name": "stdout",
     "output_type": "stream",
     "text": [
      "<class 'pandas.core.frame.DataFrame'>\n",
      "RangeIndex: 707 entries, 0 to 706\n",
      "Data columns (total 5 columns):\n",
      "N          707 non-null int64\n",
      "ZINC_ID    707 non-null object\n",
      "SMILES     707 non-null object\n",
      "logPexp    707 non-null float64\n",
      "pH         707 non-null object\n",
      "dtypes: float64(1), int64(1), object(3)\n",
      "memory usage: 27.7+ KB\n"
     ]
    }
   ],
   "source": [
    "data.info()"
   ]
  },
  {
   "cell_type": "code",
   "execution_count": 282,
   "metadata": {},
   "outputs": [
    {
     "data": {
      "text/html": [
       "<div>\n",
       "<style scoped>\n",
       "    .dataframe tbody tr th:only-of-type {\n",
       "        vertical-align: middle;\n",
       "    }\n",
       "\n",
       "    .dataframe tbody tr th {\n",
       "        vertical-align: top;\n",
       "    }\n",
       "\n",
       "    .dataframe thead th {\n",
       "        text-align: right;\n",
       "    }\n",
       "</style>\n",
       "<table border=\"1\" class=\"dataframe\">\n",
       "  <thead>\n",
       "    <tr style=\"text-align: right;\">\n",
       "      <th></th>\n",
       "      <th>N</th>\n",
       "      <th>ZINC_ID</th>\n",
       "      <th>SMILES</th>\n",
       "      <th>logPexp</th>\n",
       "      <th>pH</th>\n",
       "    </tr>\n",
       "  </thead>\n",
       "  <tbody>\n",
       "    <tr>\n",
       "      <td>0</td>\n",
       "      <td>1</td>\n",
       "      <td>ZINC00036522</td>\n",
       "      <td>COC1=CC=CC=C1[C@@H]1CC(=O)NC2=C1C=C(C)C(C)=C2</td>\n",
       "      <td>4.17</td>\n",
       "      <td>5.0</td>\n",
       "    </tr>\n",
       "    <tr>\n",
       "      <td>1</td>\n",
       "      <td>3</td>\n",
       "      <td>ZINC00185379</td>\n",
       "      <td>COC1=CC=C2C(=O)C[C@](O)(OC2=C1)C(F)(F)F</td>\n",
       "      <td>2.79</td>\n",
       "      <td>5.0</td>\n",
       "    </tr>\n",
       "    <tr>\n",
       "      <td>2</td>\n",
       "      <td>4</td>\n",
       "      <td>ZINC12402487</td>\n",
       "      <td>CC(C)(C)C1(C)O[C@@H]([C@@H](O1)C(N)=O)C(N)=O</td>\n",
       "      <td>1.60</td>\n",
       "      <td>= 6.5</td>\n",
       "    </tr>\n",
       "    <tr>\n",
       "      <td>3</td>\n",
       "      <td>5</td>\n",
       "      <td>ZINC00055459</td>\n",
       "      <td>CCOC1=CC(=CC(OCC)=C1OCC)C1=NN=C(O1)C1=CC=CO1</td>\n",
       "      <td>3.96</td>\n",
       "      <td>= 10.5</td>\n",
       "    </tr>\n",
       "    <tr>\n",
       "      <td>4</td>\n",
       "      <td>6</td>\n",
       "      <td>ZINC00056871</td>\n",
       "      <td>CN(C)C1=CC=C(C=C1)C(=C)C1=CC=C(C=C1)N(C)C</td>\n",
       "      <td>5.30</td>\n",
       "      <td>= 7.3</td>\n",
       "    </tr>\n",
       "  </tbody>\n",
       "</table>\n",
       "</div>"
      ],
      "text/plain": [
       "   N       ZINC_ID                                         SMILES  logPexp  \\\n",
       "0  1  ZINC00036522  COC1=CC=CC=C1[C@@H]1CC(=O)NC2=C1C=C(C)C(C)=C2     4.17   \n",
       "1  3  ZINC00185379        COC1=CC=C2C(=O)C[C@](O)(OC2=C1)C(F)(F)F     2.79   \n",
       "2  4  ZINC12402487   CC(C)(C)C1(C)O[C@@H]([C@@H](O1)C(N)=O)C(N)=O     1.60   \n",
       "3  5  ZINC00055459   CCOC1=CC(=CC(OCC)=C1OCC)C1=NN=C(O1)C1=CC=CO1     3.96   \n",
       "4  6  ZINC00056871      CN(C)C1=CC=C(C=C1)C(=C)C1=CC=C(C=C1)N(C)C     5.30   \n",
       "\n",
       "       pH  \n",
       "0     5.0  \n",
       "1     5.0  \n",
       "2   = 6.5  \n",
       "3  = 10.5  \n",
       "4   = 7.3  "
      ]
     },
     "execution_count": 282,
     "metadata": {},
     "output_type": "execute_result"
    }
   ],
   "source": [
    "data.head()"
   ]
  },
  {
   "cell_type": "code",
   "execution_count": 283,
   "metadata": {},
   "outputs": [],
   "source": [
    "#cleaning pH column as some of the values has '=' \n",
    "data['pH'] = pd.to_numeric(data['pH'].map(lambda x: x.lstrip('=').rstrip('=')))"
   ]
  },
  {
   "cell_type": "code",
   "execution_count": 284,
   "metadata": {},
   "outputs": [
    {
     "data": {
      "text/html": [
       "<div>\n",
       "<style scoped>\n",
       "    .dataframe tbody tr th:only-of-type {\n",
       "        vertical-align: middle;\n",
       "    }\n",
       "\n",
       "    .dataframe tbody tr th {\n",
       "        vertical-align: top;\n",
       "    }\n",
       "\n",
       "    .dataframe thead th {\n",
       "        text-align: right;\n",
       "    }\n",
       "</style>\n",
       "<table border=\"1\" class=\"dataframe\">\n",
       "  <thead>\n",
       "    <tr style=\"text-align: right;\">\n",
       "      <th></th>\n",
       "      <th>N</th>\n",
       "      <th>ZINC_ID</th>\n",
       "      <th>SMILES</th>\n",
       "      <th>logPexp</th>\n",
       "      <th>pH</th>\n",
       "    </tr>\n",
       "  </thead>\n",
       "  <tbody>\n",
       "    <tr>\n",
       "      <td>0</td>\n",
       "      <td>1</td>\n",
       "      <td>ZINC00036522</td>\n",
       "      <td>COC1=CC=CC=C1[C@@H]1CC(=O)NC2=C1C=C(C)C(C)=C2</td>\n",
       "      <td>4.17</td>\n",
       "      <td>5.0</td>\n",
       "    </tr>\n",
       "    <tr>\n",
       "      <td>1</td>\n",
       "      <td>3</td>\n",
       "      <td>ZINC00185379</td>\n",
       "      <td>COC1=CC=C2C(=O)C[C@](O)(OC2=C1)C(F)(F)F</td>\n",
       "      <td>2.79</td>\n",
       "      <td>5.0</td>\n",
       "    </tr>\n",
       "    <tr>\n",
       "      <td>2</td>\n",
       "      <td>4</td>\n",
       "      <td>ZINC12402487</td>\n",
       "      <td>CC(C)(C)C1(C)O[C@@H]([C@@H](O1)C(N)=O)C(N)=O</td>\n",
       "      <td>1.60</td>\n",
       "      <td>6.5</td>\n",
       "    </tr>\n",
       "    <tr>\n",
       "      <td>3</td>\n",
       "      <td>5</td>\n",
       "      <td>ZINC00055459</td>\n",
       "      <td>CCOC1=CC(=CC(OCC)=C1OCC)C1=NN=C(O1)C1=CC=CO1</td>\n",
       "      <td>3.96</td>\n",
       "      <td>10.5</td>\n",
       "    </tr>\n",
       "    <tr>\n",
       "      <td>4</td>\n",
       "      <td>6</td>\n",
       "      <td>ZINC00056871</td>\n",
       "      <td>CN(C)C1=CC=C(C=C1)C(=C)C1=CC=C(C=C1)N(C)C</td>\n",
       "      <td>5.30</td>\n",
       "      <td>7.3</td>\n",
       "    </tr>\n",
       "  </tbody>\n",
       "</table>\n",
       "</div>"
      ],
      "text/plain": [
       "   N       ZINC_ID                                         SMILES  logPexp  \\\n",
       "0  1  ZINC00036522  COC1=CC=CC=C1[C@@H]1CC(=O)NC2=C1C=C(C)C(C)=C2     4.17   \n",
       "1  3  ZINC00185379        COC1=CC=C2C(=O)C[C@](O)(OC2=C1)C(F)(F)F     2.79   \n",
       "2  4  ZINC12402487   CC(C)(C)C1(C)O[C@@H]([C@@H](O1)C(N)=O)C(N)=O     1.60   \n",
       "3  5  ZINC00055459   CCOC1=CC(=CC(OCC)=C1OCC)C1=NN=C(O1)C1=CC=CO1     3.96   \n",
       "4  6  ZINC00056871      CN(C)C1=CC=C(C=C1)C(=C)C1=CC=C(C=C1)N(C)C     5.30   \n",
       "\n",
       "     pH  \n",
       "0   5.0  \n",
       "1   5.0  \n",
       "2   6.5  \n",
       "3  10.5  \n",
       "4   7.3  "
      ]
     },
     "execution_count": 284,
     "metadata": {},
     "output_type": "execute_result"
    }
   ],
   "source": [
    "data.head()\n"
   ]
  },
  {
   "cell_type": "code",
   "execution_count": 285,
   "metadata": {},
   "outputs": [
    {
     "data": {
      "text/html": [
       "<div>\n",
       "<style scoped>\n",
       "    .dataframe tbody tr th:only-of-type {\n",
       "        vertical-align: middle;\n",
       "    }\n",
       "\n",
       "    .dataframe tbody tr th {\n",
       "        vertical-align: top;\n",
       "    }\n",
       "\n",
       "    .dataframe thead th {\n",
       "        text-align: right;\n",
       "    }\n",
       "</style>\n",
       "<table border=\"1\" class=\"dataframe\">\n",
       "  <thead>\n",
       "    <tr style=\"text-align: right;\">\n",
       "      <th></th>\n",
       "      <th>N</th>\n",
       "      <th>logPexp</th>\n",
       "      <th>pH</th>\n",
       "    </tr>\n",
       "  </thead>\n",
       "  <tbody>\n",
       "    <tr>\n",
       "      <td>count</td>\n",
       "      <td>707.000000</td>\n",
       "      <td>707.000000</td>\n",
       "      <td>707.000000</td>\n",
       "    </tr>\n",
       "    <tr>\n",
       "      <td>mean</td>\n",
       "      <td>491.585573</td>\n",
       "      <td>4.188713</td>\n",
       "      <td>6.438614</td>\n",
       "    </tr>\n",
       "    <tr>\n",
       "      <td>std</td>\n",
       "      <td>291.618041</td>\n",
       "      <td>1.179046</td>\n",
       "      <td>2.292337</td>\n",
       "    </tr>\n",
       "    <tr>\n",
       "      <td>min</td>\n",
       "      <td>1.000000</td>\n",
       "      <td>0.300000</td>\n",
       "      <td>2.000000</td>\n",
       "    </tr>\n",
       "    <tr>\n",
       "      <td>25%</td>\n",
       "      <td>239.500000</td>\n",
       "      <td>3.460000</td>\n",
       "      <td>5.000000</td>\n",
       "    </tr>\n",
       "    <tr>\n",
       "      <td>50%</td>\n",
       "      <td>511.000000</td>\n",
       "      <td>4.330000</td>\n",
       "      <td>5.000000</td>\n",
       "    </tr>\n",
       "    <tr>\n",
       "      <td>75%</td>\n",
       "      <td>750.500000</td>\n",
       "      <td>4.980000</td>\n",
       "      <td>7.300000</td>\n",
       "    </tr>\n",
       "    <tr>\n",
       "      <td>max</td>\n",
       "      <td>995.000000</td>\n",
       "      <td>6.960000</td>\n",
       "      <td>10.500000</td>\n",
       "    </tr>\n",
       "  </tbody>\n",
       "</table>\n",
       "</div>"
      ],
      "text/plain": [
       "                N     logPexp          pH\n",
       "count  707.000000  707.000000  707.000000\n",
       "mean   491.585573    4.188713    6.438614\n",
       "std    291.618041    1.179046    2.292337\n",
       "min      1.000000    0.300000    2.000000\n",
       "25%    239.500000    3.460000    5.000000\n",
       "50%    511.000000    4.330000    5.000000\n",
       "75%    750.500000    4.980000    7.300000\n",
       "max    995.000000    6.960000   10.500000"
      ]
     },
     "execution_count": 285,
     "metadata": {},
     "output_type": "execute_result"
    }
   ],
   "source": [
    "data.describe()"
   ]
  },
  {
   "cell_type": "markdown",
   "metadata": {},
   "source": [
    "#### *log P* distribution plot"
   ]
  },
  {
   "cell_type": "code",
   "execution_count": 286,
   "metadata": {},
   "outputs": [
    {
     "data": {
      "text/plain": [
       "<matplotlib.axes._subplots.AxesSubplot at 0x1a52932d50>"
      ]
     },
     "execution_count": 286,
     "metadata": {},
     "output_type": "execute_result"
    },
    {
     "data": {
      "image/png": "[encoded data removed]",
      "text/plain": [
       "<Figure size 432x288 with 1 Axes>"
      ]
     },
     "metadata": {
      "needs_background": "light"
     },
     "output_type": "display_data"
    }
   ],
   "source": [
    "sns.distplot(data['logPexp'])"
   ]
  },
  {
   "cell_type": "markdown",
   "metadata": {},
   "source": [
    "#### pH distribution plot"
   ]
  },
  {
   "cell_type": "code",
   "execution_count": 287,
   "metadata": {},
   "outputs": [
    {
     "data": {
      "text/plain": [
       "<matplotlib.axes._subplots.AxesSubplot at 0x1a52259d50>"
      ]
     },
     "execution_count": 287,
     "metadata": {},
     "output_type": "execute_result"
    },
    {
     "data": {
      "image/png": "[encoded data removed]",
      "text/plain": [
       "<Figure size 432x288 with 1 Axes>"
      ]
     },
     "metadata": {
      "needs_background": "light"
     },
     "output_type": "display_data"
    }
   ],
   "source": [
    "sns.distplot(data['pH'])"
   ]
  },
  {
   "cell_type": "markdown",
   "metadata": {},
   "source": [
    "We can see that there is no missing values. We drop few unnecessary columns and cleaned the pH column values and converted into interger values"
   ]
  },
  {
   "cell_type": "markdown",
   "metadata": {},
   "source": [
    "**4. Answer Questions base on dataset**\n",
    "\n",
    "Q1: Visualize molecules and check how simillar they are?"
   ]
  },
  {
   "cell_type": "code",
   "execution_count": 288,
   "metadata": {},
   "outputs": [],
   "source": [
    "#Convert SMILES to 2D molecules:\n",
    "molecules = data.SMILES.apply(Chem.MolFromSmiles)"
   ]
  },
  {
   "cell_type": "markdown",
   "metadata": {},
   "source": [
    "Visualizing 20 molecules in 5*4 grid"
   ]
  },
  {
   "cell_type": "code",
   "execution_count": 289,
   "metadata": {},
   "outputs": [
    {
     "data": {
      "image/png": "[encoded data removed]",
      "text/plain": [
       "<PIL.PngImagePlugin.PngImageFile image mode=RGB size=800x1000 at 0x1A5A287950>"
      ]
     },
     "execution_count": 289,
     "metadata": {},
     "output_type": "execute_result"
    }
   ],
   "source": [
    "#Display some of the moecules\n",
    "Draw.MolsToGridImage(molecules[:20],molsPerRow=4)"
   ]
  },
  {
   "cell_type": "code",
   "execution_count": 290,
   "metadata": {},
   "outputs": [
    {
     "name": "stdout",
     "output_type": "stream",
     "text": [
      "Tanimoto Similarity Coefficient of molecule_1 vs molecule_1: 1.0\n",
      "Tanimoto Similarity Coefficient of molecule_1 vs molecule_2: 0.1875\n"
     ]
    },
    {
     "data": {
      "text/plain": [
       "Text(0.5, 1.0, 'Pairwise similarity all molecules')"
      ]
     },
     "execution_count": 290,
     "metadata": {},
     "output_type": "execute_result"
    },
    {
     "data": {
      "image/png": "[encoded data removed]",
      "text/plain": [
       "<Figure size 1080x360 with 2 Axes>"
      ]
     },
     "metadata": {
      "needs_background": "light"
     },
     "output_type": "display_data"
    }
   ],
   "source": [
    "## Similarity Calculations\n",
    "\n",
    "# We calculate Morgan fingerprints \n",
    "mols_fps=[AllChem.GetMorganFingerprintAsBitVect(x,2) for x in molecules]\n",
    "print(f'Tanimoto Similarity Coefficient of molecule_1 vs molecule_1: {DataStructs.TanimotoSimilarity(mols_fps[0],mols_fps[0])}')\n",
    "print(f'Tanimoto Similarity Coefficient of molecule_1 vs molecule_2: {DataStructs.TanimotoSimilarity(mols_fps[0],mols_fps[1])}')\n",
    "\n",
    "# Calculate similarities to reference molecule\n",
    "sim_ref = DataStructs.BulkTanimotoSimilarity(mols_fps[0],mols_fps)\n",
    "\n",
    "\n",
    "# Calculate pairwise similarities\n",
    "def pairwise_sim(mols):\n",
    "    pairwise=[]\n",
    "    for i in mols:\n",
    "        sim = DataStructs.BulkTanimotoSimilarity(i,mols)\n",
    "        pairwise.append(sim)\n",
    "    return pairwise\n",
    "\n",
    "PW = pairwise_sim(mols_fps)\n",
    "figure,(plt1,plt2) = plt.subplots(1,2)\n",
    "figure.set_size_inches(15,5)\n",
    "plt1.hist(sim_ref)\n",
    "plt1.set_title('Similarity to reference molecule')\n",
    "plt2.hist(PW)\n",
    "plt2.set_title('Pairwise similarity all molecules')"
   ]
  },
  {
   "cell_type": "markdown",
   "metadata": {},
   "source": [
    "We have generated a connectivity fingerprint using Morgan Fingerprint and based on this fingerprint calculated the similarity measure. From the result and plot from sililarity and pairwise similarity it seems that most of the molecules are quite different from the reference molecule (molecule_0). This is a good indication for having diverse set of molecule covering large chemical space. "
   ]
  },
  {
   "cell_type": "markdown",
   "metadata": {},
   "source": [
    "**3. Prepare Data (feature engineering)**\n",
    "\n",
    "Next, we use RDKit to calculate some of molecular descriptors "
   ]
  },
  {
   "cell_type": "code",
   "execution_count": 291,
   "metadata": {},
   "outputs": [],
   "source": [
    "data.loc[:, 'MolLogP'] = molecules.apply(Descriptors.MolLogP)\n",
    "data.loc[:, 'HeavyAtomCount'] = molecules.apply(Descriptors.HeavyAtomCount)\n",
    "data.loc[:, 'HAccept'] = molecules.apply(Descriptors.NumHAcceptors)\n",
    "data.loc[:, 'Heteroatoms'] = molecules.apply(Descriptors.NumHeteroatoms)\n",
    "data.loc[:, 'HDonor'] = molecules.apply(Descriptors.NumHDonors)\n",
    "data.loc[:, 'MolWt'] = molecules.apply(Descriptors.MolWt)\n",
    "data.loc[:, 'RotableBonds'] = molecules.apply(Descriptors.NumRotatableBonds)\n",
    "data.loc[:, 'RingCount'] = molecules.apply(Descriptors.RingCount)\n",
    "data.loc[:, 'Ipc'] = molecules.apply(Descriptors.Ipc)\n",
    "data.loc[:, 'HallKierAlpha'] = molecules.apply(Descriptors.HallKierAlpha)\n",
    "data.loc[:, 'NumValenceElectrons'] = molecules.apply(Descriptors.NumValenceElectrons)\n",
    "data.loc[:, 'SaturatedRings'] = molecules.apply(Descriptors.NumSaturatedRings)\n",
    "data.loc[:, 'AliphaticRings'] = molecules.apply(Descriptors.NumAliphaticRings)\n",
    "data.loc[:, 'AromaticRings'] = molecules.apply(Descriptors.NumAromaticRings)"
   ]
  },
  {
   "cell_type": "code",
   "execution_count": 292,
   "metadata": {},
   "outputs": [
    {
     "data": {
      "text/html": [
       "<div>\n",
       "<style scoped>\n",
       "    .dataframe tbody tr th:only-of-type {\n",
       "        vertical-align: middle;\n",
       "    }\n",
       "\n",
       "    .dataframe tbody tr th {\n",
       "        vertical-align: top;\n",
       "    }\n",
       "\n",
       "    .dataframe thead th {\n",
       "        text-align: right;\n",
       "    }\n",
       "</style>\n",
       "<table border=\"1\" class=\"dataframe\">\n",
       "  <thead>\n",
       "    <tr style=\"text-align: right;\">\n",
       "      <th></th>\n",
       "      <th>N</th>\n",
       "      <th>ZINC_ID</th>\n",
       "      <th>SMILES</th>\n",
       "      <th>logPexp</th>\n",
       "      <th>pH</th>\n",
       "      <th>MolLogP</th>\n",
       "      <th>HeavyAtomCount</th>\n",
       "      <th>HAccept</th>\n",
       "      <th>Heteroatoms</th>\n",
       "      <th>HDonor</th>\n",
       "      <th>MolWt</th>\n",
       "      <th>RotableBonds</th>\n",
       "      <th>RingCount</th>\n",
       "      <th>Ipc</th>\n",
       "      <th>HallKierAlpha</th>\n",
       "      <th>NumValenceElectrons</th>\n",
       "      <th>SaturatedRings</th>\n",
       "      <th>AliphaticRings</th>\n",
       "      <th>AromaticRings</th>\n",
       "    </tr>\n",
       "  </thead>\n",
       "  <tbody>\n",
       "    <tr>\n",
       "      <td>0</td>\n",
       "      <td>1</td>\n",
       "      <td>ZINC00036522</td>\n",
       "      <td>COC1=CC=CC=C1[C@@H]1CC(=O)NC2=C1C=C(C)C(C)=C2</td>\n",
       "      <td>4.17</td>\n",
       "      <td>5.0</td>\n",
       "      <td>3.78614</td>\n",
       "      <td>21</td>\n",
       "      <td>2</td>\n",
       "      <td>3</td>\n",
       "      <td>1</td>\n",
       "      <td>281.355</td>\n",
       "      <td>2</td>\n",
       "      <td>3</td>\n",
       "      <td>69759.740168</td>\n",
       "      <td>-2.29</td>\n",
       "      <td>108</td>\n",
       "      <td>0</td>\n",
       "      <td>1</td>\n",
       "      <td>2</td>\n",
       "    </tr>\n",
       "    <tr>\n",
       "      <td>1</td>\n",
       "      <td>3</td>\n",
       "      <td>ZINC00185379</td>\n",
       "      <td>COC1=CC=C2C(=O)C[C@](O)(OC2=C1)C(F)(F)F</td>\n",
       "      <td>2.79</td>\n",
       "      <td>5.0</td>\n",
       "      <td>1.91130</td>\n",
       "      <td>18</td>\n",
       "      <td>4</td>\n",
       "      <td>7</td>\n",
       "      <td>1</td>\n",
       "      <td>262.183</td>\n",
       "      <td>1</td>\n",
       "      <td>2</td>\n",
       "      <td>7977.096898</td>\n",
       "      <td>-1.76</td>\n",
       "      <td>98</td>\n",
       "      <td>0</td>\n",
       "      <td>1</td>\n",
       "      <td>1</td>\n",
       "    </tr>\n",
       "    <tr>\n",
       "      <td>2</td>\n",
       "      <td>4</td>\n",
       "      <td>ZINC12402487</td>\n",
       "      <td>CC(C)(C)C1(C)O[C@@H]([C@@H](O1)C(N)=O)C(N)=O</td>\n",
       "      <td>1.60</td>\n",
       "      <td>6.5</td>\n",
       "      <td>-0.49670</td>\n",
       "      <td>16</td>\n",
       "      <td>4</td>\n",
       "      <td>6</td>\n",
       "      <td>2</td>\n",
       "      <td>230.264</td>\n",
       "      <td>2</td>\n",
       "      <td>1</td>\n",
       "      <td>2165.098769</td>\n",
       "      <td>-1.14</td>\n",
       "      <td>92</td>\n",
       "      <td>1</td>\n",
       "      <td>1</td>\n",
       "      <td>0</td>\n",
       "    </tr>\n",
       "    <tr>\n",
       "      <td>3</td>\n",
       "      <td>5</td>\n",
       "      <td>ZINC00055459</td>\n",
       "      <td>CCOC1=CC(=CC(OCC)=C1OCC)C1=NN=C(O1)C1=CC=CO1</td>\n",
       "      <td>3.96</td>\n",
       "      <td>10.5</td>\n",
       "      <td>4.19270</td>\n",
       "      <td>25</td>\n",
       "      <td>7</td>\n",
       "      <td>7</td>\n",
       "      <td>0</td>\n",
       "      <td>344.367</td>\n",
       "      <td>8</td>\n",
       "      <td>3</td>\n",
       "      <td>819166.201010</td>\n",
       "      <td>-2.96</td>\n",
       "      <td>132</td>\n",
       "      <td>0</td>\n",
       "      <td>0</td>\n",
       "      <td>3</td>\n",
       "    </tr>\n",
       "    <tr>\n",
       "      <td>4</td>\n",
       "      <td>6</td>\n",
       "      <td>ZINC00056871</td>\n",
       "      <td>CN(C)C1=CC=C(C=C1)C(=C)C1=CC=C(C=C1)N(C)C</td>\n",
       "      <td>5.30</td>\n",
       "      <td>7.3</td>\n",
       "      <td>3.88010</td>\n",
       "      <td>20</td>\n",
       "      <td>2</td>\n",
       "      <td>2</td>\n",
       "      <td>0</td>\n",
       "      <td>266.388</td>\n",
       "      <td>4</td>\n",
       "      <td>2</td>\n",
       "      <td>32168.378171</td>\n",
       "      <td>-2.22</td>\n",
       "      <td>104</td>\n",
       "      <td>0</td>\n",
       "      <td>0</td>\n",
       "      <td>2</td>\n",
       "    </tr>\n",
       "  </tbody>\n",
       "</table>\n",
       "</div>"
      ],
      "text/plain": [
       "   N       ZINC_ID                                         SMILES  logPexp  \\\n",
       "0  1  ZINC00036522  COC1=CC=CC=C1[C@@H]1CC(=O)NC2=C1C=C(C)C(C)=C2     4.17   \n",
       "1  3  ZINC00185379        COC1=CC=C2C(=O)C[C@](O)(OC2=C1)C(F)(F)F     2.79   \n",
       "2  4  ZINC12402487   CC(C)(C)C1(C)O[C@@H]([C@@H](O1)C(N)=O)C(N)=O     1.60   \n",
       "3  5  ZINC00055459   CCOC1=CC(=CC(OCC)=C1OCC)C1=NN=C(O1)C1=CC=CO1     3.96   \n",
       "4  6  ZINC00056871      CN(C)C1=CC=C(C=C1)C(=C)C1=CC=C(C=C1)N(C)C     5.30   \n",
       "\n",
       "     pH  MolLogP  HeavyAtomCount  HAccept  Heteroatoms  HDonor    MolWt  \\\n",
       "0   5.0  3.78614              21        2            3       1  281.355   \n",
       "1   5.0  1.91130              18        4            7       1  262.183   \n",
       "2   6.5 -0.49670              16        4            6       2  230.264   \n",
       "3  10.5  4.19270              25        7            7       0  344.367   \n",
       "4   7.3  3.88010              20        2            2       0  266.388   \n",
       "\n",
       "   RotableBonds  RingCount            Ipc  HallKierAlpha  NumValenceElectrons  \\\n",
       "0             2          3   69759.740168          -2.29                  108   \n",
       "1             1          2    7977.096898          -1.76                   98   \n",
       "2             2          1    2165.098769          -1.14                   92   \n",
       "3             8          3  819166.201010          -2.96                  132   \n",
       "4             4          2   32168.378171          -2.22                  104   \n",
       "\n",
       "   SaturatedRings  AliphaticRings  AromaticRings  \n",
       "0               0               1              2  \n",
       "1               0               1              1  \n",
       "2               1               1              0  \n",
       "3               0               0              3  \n",
       "4               0               0              2  "
      ]
     },
     "execution_count": 292,
     "metadata": {},
     "output_type": "execute_result"
    }
   ],
   "source": [
    "data.head()"
   ]
  },
  {
   "cell_type": "markdown",
   "metadata": {},
   "source": [
    "As a baseline, we calculate the performance of RDKit’s calculated MolLogP vs the experimental log P."
   ]
  },
  {
   "cell_type": "code",
   "execution_count": 293,
   "metadata": {},
   "outputs": [
    {
     "data": {
      "image/png": "[encoded data removed]",
      "text/plain": [
       "<Figure size 432x288 with 1 Axes>"
      ]
     },
     "metadata": {
      "needs_background": "light"
     },
     "output_type": "display_data"
    }
   ],
   "source": [
    "r2 = r2_score(data.logPexp, data.MolLogP)\n",
    "mse = mean_squared_error(data.logPexp, data.MolLogP)\n",
    "plt.scatter(data.logPexp, data.MolLogP,\n",
    "            label = \"MSE: {:.2f}\\nR^2: {:.2f}\".format(mse, r2))\n",
    "plt.legend()\n",
    "plt.show()"
   ]
  },
  {
   "cell_type": "markdown",
   "metadata": {},
   "source": [
    "As we can see above, RDKit’s *log P* predictions have a relatively high mean square error, and a weak $R^2$ of determination for this dataset. RDKit’s MolLogP implementation is based on atomic contributions. Hence, we will first try to train our own simple *log P* model using the RDKit physical descriptors that we generated above."
   ]
  },
  {
   "cell_type": "markdown",
   "metadata": {},
   "source": [
    "# Simple descriptor models traning\n",
    "\n",
    "Following descriptor we will use to train our simple model"
   ]
  },
  {
   "cell_type": "code",
   "execution_count": 294,
   "metadata": {},
   "outputs": [
    {
     "data": {
      "text/html": [
       "<div>\n",
       "<style scoped>\n",
       "    .dataframe tbody tr th:only-of-type {\n",
       "        vertical-align: middle;\n",
       "    }\n",
       "\n",
       "    .dataframe tbody tr th {\n",
       "        vertical-align: top;\n",
       "    }\n",
       "\n",
       "    .dataframe thead th {\n",
       "        text-align: right;\n",
       "    }\n",
       "</style>\n",
       "<table border=\"1\" class=\"dataframe\">\n",
       "  <thead>\n",
       "    <tr style=\"text-align: right;\">\n",
       "      <th></th>\n",
       "      <th>HeavyAtomCount</th>\n",
       "      <th>HAccept</th>\n",
       "      <th>Heteroatoms</th>\n",
       "      <th>HDonor</th>\n",
       "      <th>MolWt</th>\n",
       "      <th>RotableBonds</th>\n",
       "      <th>RingCount</th>\n",
       "      <th>Ipc</th>\n",
       "      <th>HallKierAlpha</th>\n",
       "      <th>NumValenceElectrons</th>\n",
       "      <th>SaturatedRings</th>\n",
       "      <th>AliphaticRings</th>\n",
       "      <th>AromaticRings</th>\n",
       "    </tr>\n",
       "  </thead>\n",
       "  <tbody>\n",
       "    <tr>\n",
       "      <td>0</td>\n",
       "      <td>21</td>\n",
       "      <td>2</td>\n",
       "      <td>3</td>\n",
       "      <td>1</td>\n",
       "      <td>281.355</td>\n",
       "      <td>2</td>\n",
       "      <td>3</td>\n",
       "      <td>69759.740168</td>\n",
       "      <td>-2.29</td>\n",
       "      <td>108</td>\n",
       "      <td>0</td>\n",
       "      <td>1</td>\n",
       "      <td>2</td>\n",
       "    </tr>\n",
       "    <tr>\n",
       "      <td>1</td>\n",
       "      <td>18</td>\n",
       "      <td>4</td>\n",
       "      <td>7</td>\n",
       "      <td>1</td>\n",
       "      <td>262.183</td>\n",
       "      <td>1</td>\n",
       "      <td>2</td>\n",
       "      <td>7977.096898</td>\n",
       "      <td>-1.76</td>\n",
       "      <td>98</td>\n",
       "      <td>0</td>\n",
       "      <td>1</td>\n",
       "      <td>1</td>\n",
       "    </tr>\n",
       "    <tr>\n",
       "      <td>2</td>\n",
       "      <td>16</td>\n",
       "      <td>4</td>\n",
       "      <td>6</td>\n",
       "      <td>2</td>\n",
       "      <td>230.264</td>\n",
       "      <td>2</td>\n",
       "      <td>1</td>\n",
       "      <td>2165.098769</td>\n",
       "      <td>-1.14</td>\n",
       "      <td>92</td>\n",
       "      <td>1</td>\n",
       "      <td>1</td>\n",
       "      <td>0</td>\n",
       "    </tr>\n",
       "    <tr>\n",
       "      <td>3</td>\n",
       "      <td>25</td>\n",
       "      <td>7</td>\n",
       "      <td>7</td>\n",
       "      <td>0</td>\n",
       "      <td>344.367</td>\n",
       "      <td>8</td>\n",
       "      <td>3</td>\n",
       "      <td>819166.201010</td>\n",
       "      <td>-2.96</td>\n",
       "      <td>132</td>\n",
       "      <td>0</td>\n",
       "      <td>0</td>\n",
       "      <td>3</td>\n",
       "    </tr>\n",
       "    <tr>\n",
       "      <td>4</td>\n",
       "      <td>20</td>\n",
       "      <td>2</td>\n",
       "      <td>2</td>\n",
       "      <td>0</td>\n",
       "      <td>266.388</td>\n",
       "      <td>4</td>\n",
       "      <td>2</td>\n",
       "      <td>32168.378171</td>\n",
       "      <td>-2.22</td>\n",
       "      <td>104</td>\n",
       "      <td>0</td>\n",
       "      <td>0</td>\n",
       "      <td>2</td>\n",
       "    </tr>\n",
       "  </tbody>\n",
       "</table>\n",
       "</div>"
      ],
      "text/plain": [
       "   HeavyAtomCount  HAccept  Heteroatoms  HDonor    MolWt  RotableBonds  \\\n",
       "0              21        2            3       1  281.355             2   \n",
       "1              18        4            7       1  262.183             1   \n",
       "2              16        4            6       2  230.264             2   \n",
       "3              25        7            7       0  344.367             8   \n",
       "4              20        2            2       0  266.388             4   \n",
       "\n",
       "   RingCount            Ipc  HallKierAlpha  NumValenceElectrons  \\\n",
       "0          3   69759.740168          -2.29                  108   \n",
       "1          2    7977.096898          -1.76                   98   \n",
       "2          1    2165.098769          -1.14                   92   \n",
       "3          3  819166.201010          -2.96                  132   \n",
       "4          2   32168.378171          -2.22                  104   \n",
       "\n",
       "   SaturatedRings  AliphaticRings  AromaticRings  \n",
       "0               0               1              2  \n",
       "1               0               1              1  \n",
       "2               1               1              0  \n",
       "3               0               0              3  \n",
       "4               0               0              2  "
      ]
     },
     "execution_count": 294,
     "metadata": {},
     "output_type": "execute_result"
    }
   ],
   "source": [
    "X = data.iloc[:, 6:]\n",
    "y = data.logPexp\n",
    "X.head()"
   ]
  },
  {
   "cell_type": "markdown",
   "metadata": {},
   "source": [
    "For the regression, we will use a Random Forest with the default parameters from scikit-learn, and set aside one 20\\% of the data for testing."
   ]
  },
  {
   "cell_type": "code",
   "execution_count": 295,
   "metadata": {},
   "outputs": [],
   "source": [
    "X_train, X_test, y_train, y_test = train_test_split(X, y, test_size=0.2, random_state=42)\n",
    "\n",
    "# Default models\n",
    "models = {\"rf\": RandomForestRegressor(n_estimators=100, random_state=42)}\n",
    "\n",
    "scores = {}\n",
    "for m in models:\n",
    "    models[m].fit(X_train, y_train)\n",
    "    scores[m + \"_train\"] = models[m].score(X_train, y_train, )\n",
    "    y_pred = models[m].predict(X_test)\n",
    "    scores[m + \"_test\"] = r2_score(y_test, y_pred)\n",
    "    scores[m + \"_mse_test\"] = mean_squared_error(y_test, y_pred)"
   ]
  },
  {
   "cell_type": "code",
   "execution_count": 296,
   "metadata": {},
   "outputs": [
    {
     "data": {
      "text/plain": [
       "rf_train       0.914903\n",
       "rf_test        0.503457\n",
       "rf_mse_test    0.682586\n",
       "dtype: float64"
      ]
     },
     "execution_count": 296,
     "metadata": {},
     "output_type": "execute_result"
    }
   ],
   "source": [
    "scores = pd.Series(scores).T\n",
    "scores"
   ]
  },
  {
   "cell_type": "code",
   "execution_count": 297,
   "metadata": {},
   "outputs": [
    {
     "data": {
      "image/png": "[encoded data removed]",
      "text/plain": [
       "<Figure size 432x288 with 1 Axes>"
      ]
     },
     "metadata": {
      "needs_background": "light"
     },
     "output_type": "display_data"
    }
   ],
   "source": [
    "r_2 = r2_score(y_test, y_pred)\n",
    "mse = mean_squared_error(y_test, y_pred)\n",
    "plt.scatter(y_test, y_pred, label = \"MSE: {:.2f}\\nR^2: {:.2f}\".format(mse, r_2))\n",
    "plt.legend()\n",
    "plt.show()"
   ]
  },
  {
   "cell_type": "markdown",
   "metadata": {},
   "source": [
    "As we can see, using these simple descriptors coupled with scikit-learn’s default random forest gets us a higher R2 and MSE performance than the RDKit *log P* predictor. It would be interesting to see how much we can improve the performance by tuning the random forest parameters."
   ]
  },
  {
   "cell_type": "code",
   "execution_count": 298,
   "metadata": {},
   "outputs": [],
   "source": [
    "param_grid = { \n",
    "    'n_estimators': [200, 700],\n",
    "    'max_features': ['auto', 'sqrt', 'log2']\n",
    "}"
   ]
  },
  {
   "cell_type": "code",
   "execution_count": 299,
   "metadata": {},
   "outputs": [],
   "source": [
    "estimator = RandomForestRegressor()"
   ]
  },
  {
   "cell_type": "code",
   "execution_count": 300,
   "metadata": {},
   "outputs": [],
   "source": [
    "grid = GridSearchCV(estimator, param_grid, n_jobs=-1, cv=5)"
   ]
  },
  {
   "cell_type": "code",
   "execution_count": 301,
   "metadata": {},
   "outputs": [
    {
     "data": {
      "text/plain": [
       "GridSearchCV(cv=5, error_score='raise-deprecating',\n",
       "             estimator=RandomForestRegressor(bootstrap=True, criterion='mse',\n",
       "                                             max_depth=None,\n",
       "                                             max_features='auto',\n",
       "                                             max_leaf_nodes=None,\n",
       "                                             min_impurity_decrease=0.0,\n",
       "                                             min_impurity_split=None,\n",
       "                                             min_samples_leaf=1,\n",
       "                                             min_samples_split=2,\n",
       "                                             min_weight_fraction_leaf=0.0,\n",
       "                                             n_estimators='warn', n_jobs=None,\n",
       "                                             oob_score=False, random_state=None,\n",
       "                                             verbose=0, warm_start=False),\n",
       "             iid='warn', n_jobs=-1,\n",
       "             param_grid={'max_features': ['auto', 'sqrt', 'log2'],\n",
       "                         'n_estimators': [200, 700]},\n",
       "             pre_dispatch='2*n_jobs', refit=True, return_train_score=False,\n",
       "             scoring=None, verbose=0)"
      ]
     },
     "execution_count": 301,
     "metadata": {},
     "output_type": "execute_result"
    }
   ],
   "source": [
    "grid.fit(X_train, y_train)"
   ]
  },
  {
   "cell_type": "code",
   "execution_count": 302,
   "metadata": {},
   "outputs": [
    {
     "data": {
      "text/plain": [
       "RandomForestRegressor(bootstrap=True, criterion='mse', max_depth=None,\n",
       "                      max_features='auto', max_leaf_nodes=None,\n",
       "                      min_impurity_decrease=0.0, min_impurity_split=None,\n",
       "                      min_samples_leaf=1, min_samples_split=2,\n",
       "                      min_weight_fraction_leaf=0.0, n_estimators=700,\n",
       "                      n_jobs=None, oob_score=False, random_state=None,\n",
       "                      verbose=0, warm_start=False)"
      ]
     },
     "execution_count": 302,
     "metadata": {},
     "output_type": "execute_result"
    }
   ],
   "source": [
    "grid.best_estimator_"
   ]
  },
  {
   "cell_type": "code",
   "execution_count": 303,
   "metadata": {},
   "outputs": [
    {
     "data": {
      "text/plain": [
       "{'max_features': 'auto', 'n_estimators': 700}"
      ]
     },
     "execution_count": 303,
     "metadata": {},
     "output_type": "execute_result"
    }
   ],
   "source": [
    "grid.best_params_"
   ]
  },
  {
   "cell_type": "code",
   "execution_count": 304,
   "metadata": {},
   "outputs": [],
   "source": [
    "models = {\"rf\": RandomForestRegressor(bootstrap=True, criterion='mse', max_depth=None,\n",
    "                      max_features='auto', max_leaf_nodes=None,\n",
    "                      min_impurity_decrease=0.0, min_impurity_split=None,\n",
    "                      min_samples_leaf=1, min_samples_split=2,\n",
    "                      min_weight_fraction_leaf=0.0, n_estimators=200,\n",
    "                      n_jobs=None, oob_score=False, random_state=None,\n",
    "                      verbose=0, warm_start=False)}\n",
    "\n",
    "scores = {}\n",
    "for m in models:\n",
    "    models[m].fit(X_train, y_train)\n",
    "    scores[m + \"_train\"] = models[m].score(X_train, y_train, )\n",
    "    y_pred = models[m].predict(X_test)\n",
    "    scores[m + \"_test\"] = r2_score(y_test, y_pred)\n",
    "    scores[m + \"_mse_test\"] = mean_squared_error(y_test, y_pred)"
   ]
  },
  {
   "cell_type": "code",
   "execution_count": 305,
   "metadata": {},
   "outputs": [
    {
     "data": {
      "text/plain": [
       "rf_train       0.919272\n",
       "rf_test        0.489389\n",
       "rf_mse_test    0.701924\n",
       "dtype: float64"
      ]
     },
     "execution_count": 305,
     "metadata": {},
     "output_type": "execute_result"
    }
   ],
   "source": [
    "scores = pd.Series(scores).T\n",
    "scores"
   ]
  },
  {
   "cell_type": "code",
   "execution_count": 306,
   "metadata": {},
   "outputs": [
    {
     "data": {
      "image/png": "[encoded data removed]",
      "text/plain": [
       "<Figure size 432x288 with 1 Axes>"
      ]
     },
     "metadata": {
      "needs_background": "light"
     },
     "output_type": "display_data"
    }
   ],
   "source": [
    "r_2 = r2_score(y_test, y_pred)\n",
    "mse = mean_squared_error(y_test, y_pred)\n",
    "plt.scatter(y_test, y_pred, label = \"MSE: {:.2f}\\nR^2: {:.2f}\".format(mse, r_2))\n",
    "plt.legend()\n",
    "plt.show()"
   ]
  },
  {
   "cell_type": "markdown",
   "metadata": {},
   "source": [
    "Hyperparameter tuning which essentially relies more on experimental results than theory, and thus the best method to determine the optimal settings is to try many different combinations evaluate the performance of each model. In our case its seems to improve the estimates a bit but not very significant. "
   ]
  },
  {
   "cell_type": "markdown",
   "metadata": {},
   "source": [
    "# Continue Preparing Data for Q3\n",
    "\n",
    "## Calculating some more advanced moleculating fingerprint ##"
   ]
  },
  {
   "cell_type": "markdown",
   "metadata": {},
   "source": [
    "We will test Morgan fingerprints (ECFP4 and ECFP6), RDKFingerprints, and topological pharmacophore fingerprints (TPAPF and TPATF), the scripts for which are available from [MayaChemTools](http://www.mayachemtools.org/)."
   ]
  },
  {
   "cell_type": "markdown",
   "metadata": {},
   "source": [
    "Just note here that I am running this notebook on a super computing [PL-Grid Infrastructure](http://www.plgrid.pl/en) where each computing node has 24 cpu and 128 GB of memory which is quite impressive.To utlize the max cpu utilization lets create a function for parallelizing a DataFrame’s apply() function. This makes TPATF and TPAPF fingerprint calculation much faster. "
   ]
  },
  {
   "cell_type": "code",
   "execution_count": 307,
   "metadata": {},
   "outputs": [],
   "source": [
    "import multiprocessing\n",
    "from joblib import Parallel, delayed\n",
    "\n",
    "def applyParallel(df, func):\n",
    "    \"\"\"This function splits a pandas Series into n chunks,\n",
    "    corresponding to the number of available CPUs. Then it\n",
    "    applies a given function to the dataframe chunks, and \n",
    "    finally, returns their concatenated output.\"\"\"\n",
    "    n_jobs=multiprocessing.cpu_count()\n",
    "    groups =  np.array_split(df, n_jobs)\n",
    "    results = Parallel(n_jobs)(delayed(lambda g: g.apply(func))(group) for group in groups)\n",
    "    return pd.concat(results)"
   ]
  },
  {
   "cell_type": "markdown",
   "metadata": {},
   "source": [
    "Calculate fingerprints:"
   ]
  },
  {
   "cell_type": "code",
   "execution_count": 308,
   "metadata": {},
   "outputs": [],
   "source": [
    "fps = {\"ECFP4\": molecules.apply(lambda m: AllChem.GetMorganFingerprintAsBitVect(m, radius=2, nBits=2048)),\n",
    "       \"ECFP6\": molecules.apply(lambda m: AllChem.GetMorganFingerprintAsBitVect(m, radius=3, nBits=2048)),\n",
    "       \"RDKFP\": molecules.apply(lambda m: AllChem.RDKFingerprint(m, fpSize=2048)),\n",
    "       \"TPATF\": applyParallel(data.SMILES, lambda m: FeatureGenerator(m).toTPATF()),\n",
    "       \"TPAPF\": applyParallel(data.SMILES, lambda m: FeatureGenerator(m).toTPAPF())}"
   ]
  },
  {
   "cell_type": "code",
   "execution_count": 309,
   "metadata": {},
   "outputs": [
    {
     "data": {
      "text/plain": [
       "dict_keys(['ECFP4', 'ECFP6', 'RDKFP', 'TPATF', 'TPAPF'])"
      ]
     },
     "execution_count": 309,
     "metadata": {},
     "output_type": "execute_result"
    }
   ],
   "source": [
    "fps.keys()"
   ]
  },
  {
   "cell_type": "code",
   "execution_count": null,
   "metadata": {},
   "outputs": [],
   "source": []
  },
  {
   "cell_type": "markdown",
   "metadata": {},
   "source": [
    "# 5. Train model and Measure Performance\n",
    "\n",
    "Finally, here we apply three different types of regression models to estimate the performance of these calculated different fingerprints."
   ]
  },
  {
   "cell_type": "code",
   "execution_count": 310,
   "metadata": {},
   "outputs": [
    {
     "name": "stderr",
     "output_type": "stream",
     "text": [
      "/Users/prashant/sfs0/anaconda3/envs/my-rdkit-env/lib/python3.7/site-packages/sklearn/neural_network/multilayer_perceptron.py:566: ConvergenceWarning: Stochastic Optimizer: Maximum iterations (200) reached and the optimization hasn't converged yet.\n",
      "  % self.max_iter, ConvergenceWarning)\n",
      "/Users/prashant/sfs0/anaconda3/envs/my-rdkit-env/lib/python3.7/site-packages/sklearn/neural_network/multilayer_perceptron.py:566: ConvergenceWarning: Stochastic Optimizer: Maximum iterations (200) reached and the optimization hasn't converged yet.\n",
      "  % self.max_iter, ConvergenceWarning)\n"
     ]
    }
   ],
   "source": [
    "# Default models\n",
    "models = {\"rf\": RandomForestRegressor(n_estimators=100, random_state=42),\n",
    "          \"nnet\": MLPRegressor(random_state=42),\n",
    "          \"svr\": SVR(gamma='auto')}\n",
    "\n",
    "scores = {}\n",
    "\n",
    "for f in fps:\n",
    "    scores[f] = {}\n",
    "    # Convert fps to 2D numpy array\n",
    "    X = np.array(fps[f].tolist())\n",
    "    X_train, X_test, y_train, y_test = train_test_split(X, y, test_size=0.33, random_state=42)\n",
    "    for m in models:\n",
    "        models[m].fit(X_train, y_train)\n",
    "        y_pred = models[m].predict(X_test)\n",
    "        scores[f][m + \"_r2_test\"] = r2_score(y_test, y_pred)\n",
    "        scores[f][m + \"_mse_test\"] = mean_squared_error(y_test, y_pred)\n",
    "        "
   ]
  },
  {
   "cell_type": "code",
   "execution_count": 313,
   "metadata": {
    "scrolled": true
   },
   "outputs": [
    {
     "data": {
      "text/html": [
       "<div>\n",
       "<style scoped>\n",
       "    .dataframe tbody tr th:only-of-type {\n",
       "        vertical-align: middle;\n",
       "    }\n",
       "\n",
       "    .dataframe tbody tr th {\n",
       "        vertical-align: top;\n",
       "    }\n",
       "\n",
       "    .dataframe thead th {\n",
       "        text-align: right;\n",
       "    }\n",
       "</style>\n",
       "<table border=\"1\" class=\"dataframe\">\n",
       "  <thead>\n",
       "    <tr style=\"text-align: right;\">\n",
       "      <th></th>\n",
       "      <th>rf_r2_test</th>\n",
       "      <th>rf_mse_test</th>\n",
       "      <th>nnet_r2_test</th>\n",
       "      <th>nnet_mse_test</th>\n",
       "      <th>svr_r2_test</th>\n",
       "      <th>svr_mse_test</th>\n",
       "    </tr>\n",
       "  </thead>\n",
       "  <tbody>\n",
       "    <tr>\n",
       "      <td>ECFP4</td>\n",
       "      <td>0.156600</td>\n",
       "      <td>1.217715</td>\n",
       "      <td>0.044412</td>\n",
       "      <td>1.379694</td>\n",
       "      <td>0.059731</td>\n",
       "      <td>1.357576</td>\n",
       "    </tr>\n",
       "    <tr>\n",
       "      <td>ECFP6</td>\n",
       "      <td>0.193432</td>\n",
       "      <td>1.164537</td>\n",
       "      <td>0.150649</td>\n",
       "      <td>1.226307</td>\n",
       "      <td>0.073025</td>\n",
       "      <td>1.338382</td>\n",
       "    </tr>\n",
       "    <tr>\n",
       "      <td>RDKFP</td>\n",
       "      <td>0.271040</td>\n",
       "      <td>1.052484</td>\n",
       "      <td>0.158263</td>\n",
       "      <td>1.215313</td>\n",
       "      <td>0.263249</td>\n",
       "      <td>1.063734</td>\n",
       "    </tr>\n",
       "    <tr>\n",
       "      <td>TPATF</td>\n",
       "      <td>0.504879</td>\n",
       "      <td>0.714864</td>\n",
       "      <td>-1.150057</td>\n",
       "      <td>3.104288</td>\n",
       "      <td>0.334113</td>\n",
       "      <td>0.961418</td>\n",
       "    </tr>\n",
       "    <tr>\n",
       "      <td>TPAPF</td>\n",
       "      <td>0.437572</td>\n",
       "      <td>0.812042</td>\n",
       "      <td>0.047928</td>\n",
       "      <td>1.374618</td>\n",
       "      <td>0.427300</td>\n",
       "      <td>0.826874</td>\n",
       "    </tr>\n",
       "  </tbody>\n",
       "</table>\n",
       "</div>"
      ],
      "text/plain": [
       "       rf_r2_test  rf_mse_test  nnet_r2_test  nnet_mse_test  svr_r2_test  \\\n",
       "ECFP4    0.156600     1.217715      0.044412       1.379694     0.059731   \n",
       "ECFP6    0.193432     1.164537      0.150649       1.226307     0.073025   \n",
       "RDKFP    0.271040     1.052484      0.158263       1.215313     0.263249   \n",
       "TPATF    0.504879     0.714864     -1.150057       3.104288     0.334113   \n",
       "TPAPF    0.437572     0.812042      0.047928       1.374618     0.427300   \n",
       "\n",
       "       svr_mse_test  \n",
       "ECFP4      1.357576  \n",
       "ECFP6      1.338382  \n",
       "RDKFP      1.063734  \n",
       "TPATF      0.961418  \n",
       "TPAPF      0.826874  "
      ]
     },
     "execution_count": 313,
     "metadata": {},
     "output_type": "execute_result"
    }
   ],
   "source": [
    "scores_df = pd.DataFrame(scores).T\n",
    "scores_df"
   ]
  },
  {
   "cell_type": "markdown",
   "metadata": {},
   "source": [
    "The Topological Pharmacophore Atomic Triplets Fingerprint (TPATF) performed the best - even outperforming the simple descriptor model. The default random forest had the best performance out of all the regression methods, although it is subject to change after hyperparameter tuning. \n",
    "\n",
    "The above exercise shows some aspect of machine leaning in chemistry and classically called as Quantitative Structure Activity prediction (QSAR) and is in practice for several decades. Actually there is lot use cases of machine leaning in the field of physical chemistry such as designing new materials, new energy source, etc. "
   ]
  },
  {
   "cell_type": "code",
   "execution_count": null,
   "metadata": {},
   "outputs": [],
   "source": []
  },
  {
   "cell_type": "code",
   "execution_count": null,
   "metadata": {},
   "outputs": [],
   "source": []
  }
 ],
 "metadata": {
  "kernelspec": {
   "display_name": "Python [conda env:my-rdkit-env] *",
   "language": "python",
   "name": "conda-env-my-rdkit-env-py"
  },
  "language_info": {
   "codemirror_mode": {
    "name": "ipython",
    "version": 3
   },
   "file_extension": ".py",
   "mimetype": "text/x-python",
   "name": "python",
   "nbconvert_exporter": "python",
   "pygments_lexer": "ipython3",
   "version": "3.7.4"
  }
 },
 "nbformat": 4,
 "nbformat_minor": 2
}
